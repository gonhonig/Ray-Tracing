{
 "cells": [
  {
   "attachments": {},
   "cell_type": "markdown",
   "metadata": {
    "id": "GEn9K882F5Dt"
   },
   "source": [
    "# Overview\n",
    "Ray Rracing is a technique for generating an image by tracing the path of light through pixels in an image plane and simulating the effects of its encounters with virtual objects.\n",
    "\n",
    "The technique is capable of producing a very high degree of visual realism, usually higher than that of typical scanline rendering methods, but at a greater computational cost.\n",
    "\n",
    "The objective of this exercise is to implement a ray casting/tracing engine. A ray tracer shoots rays from the observer’s eye through a screen and into a scene of objects. It calculates the ray’s intersection with the objects, finds the nearest intersection and calculates the color of the surface according to its material and lighting conditions. _(This is the way you should think about it –\n",
    "this will help in your implementation)._"
   ]
  },
  {
   "attachments": {},
   "cell_type": "markdown",
   "metadata": {
    "id": "ngS-Xq3TGZvQ"
   },
   "source": [
    "## Grading\n",
    "- Pinhole Camera **7 points**\n",
    "- Display geometric primitives in space:\n",
    "  - Triangles **8 points**\n",
    "  - Diamonds 15 points\n",
    "  - Spheres 15 points\n",
    "- Basic lighting\n",
    "  - Ambient light **5 points**\n",
    "  - Directional Light source **7 Points**\n",
    "  - Spotlight **8 points**\n",
    "  - Simple materials (ambient, diffuse, specular...) **10 points**\n",
    "- Basic hard shadows **5 points**\n",
    "- Reflecting surfaces **10 points**\n",
    "- Create a scene of your own **10 points** with the instructions below – Be creative! Well thought-of scenes may get **<u>bonus points</u>** 😉\n",
    "- Refracting surfaces **5 points <u>bonus</u>**"
   ]
  },
  {
   "attachments": {},
   "cell_type": "markdown",
   "metadata": {
    "id": "yUz2L4rlH1TQ"
   },
   "source": [
    "## Guidelines\n",
    "\n",
    "- We provided you with some framework for you to work with - take adventage of the methods we implemented for you.\n",
    "- While you do not have to implement everything using our suggested helper methods, we are expecting that all the methods that are used in this example notebook will be implemented, and this will also allow you to test your code.\n",
    "- You may (and sometimes MUST) add parameters and arguments to methods and classes.\n",
    "- You may change and even overwrite other helper_classes.py classes and functions. However, you may find it easier to use it instead of going against it.\n",
    "- You are highly recommended to write a lot of helper functions in hw3. For example: Finding the closest object, Computing the color for a single light source, etc.\n",
    "- You may **not** change:\n",
    "     - base classes *LightSource* and *Object3D*\n",
    "     - arguments for the *render_scene* and *your_own_scene* functions.\n",
    "     - code written for you in this notebook.\n",
    "- You don't need to restart the notebook for every change in your code - just run the code snippet below before you start running any code in the notebook."
   ]
  },
  {
   "attachments": {},
   "cell_type": "markdown",
   "metadata": {},
   "source": [
    "## Tips & Guidelines\n",
    "\n",
    "- All light sources and 3D objects have similar functions and arguments in order to make your life easier while rendering. It doesn't mean you need to use all the arguments in every situation\n",
    "- There is a difference between how you treat every 3D Objects. You can differentiate of which class is each object with *isinstance()*\n",
    "- With barycentric coordinates test, you may want to use some epsilon as we are working with float values.\n",
    "- Using the exact intersection point may lead to bugs. After finding an intersection, choose a close point that is above the intersection point (Think - How can I shift a point \"above\" the surface? what is the direction?)\n",
    "- When testing, use lower rendering resultion (say $64\\times 64$) to save you time"
   ]
  },
  {
   "cell_type": "markdown",
   "metadata": {
    "id": "HCGZy9xfUYLK"
   },
   "source": [
    "# Scene Examples\n",
    "\n",
    "We provided you with some ready scenes to validate your answers. The scenes are in an increasing implementation levels, so we recommend you to implement the code according to the scenes."
   ]
  },
  {
   "cell_type": "code",
   "metadata": {
    "ExecuteTime": {
     "end_time": "2025-05-17T15:12:46.285295Z",
     "start_time": "2025-05-17T15:12:46.269326Z"
    }
   },
   "source": [
    "# This small code snippet will allow you to change your python file without resetting the kernel\n",
    "\n",
    "%load_ext autoreload\n",
    "%autoreload 2"
   ],
   "outputs": [
    {
     "name": "stdout",
     "output_type": "stream",
     "text": [
      "The autoreload extension is already loaded. To reload it, use:\n",
      "  %reload_ext autoreload\n"
     ]
    }
   ],
   "execution_count": 7
  },
  {
   "cell_type": "code",
   "metadata": {
    "ExecuteTime": {
     "end_time": "2025-05-17T15:18:02.710997Z",
     "start_time": "2025-05-17T15:18:02.677031Z"
    }
   },
   "source": [
    "# Tip: for debuging, use lower resolution for faster rendering\n",
    "\n",
    "RENDER_RESOLUTION = (256,256)\n",
    "# RENDER_RESOLUTION = (128,128)\n",
    "RENDER_RESOLUTION = (64,64)"
   ],
   "outputs": [],
   "execution_count": 13
  },
  {
   "cell_type": "code",
   "metadata": {
    "ExecuteTime": {
     "end_time": "2025-05-17T15:12:46.326822Z",
     "start_time": "2025-05-17T15:12:46.317470Z"
    }
   },
   "source": [
    "from hw3 import *\n",
    "from helper_classes import *"
   ],
   "outputs": [],
   "execution_count": 9
  },
  {
   "cell_type": "markdown",
   "metadata": {
    "id": "JujmyDnzVjzw"
   },
   "source": [
    "## Scene 1: Hello Ray Tracing!\n",
    "\n",
    "In this scene we render two planes with different colors. You can test this scene to check if your camera and colors are working correctly.\n",
    "\n",
    "![](scenes/scene1.png)"
   ]
  },
  {
   "cell_type": "code",
   "metadata": {
    "id": "wC4SfjF-Vi2w",
    "ExecuteTime": {
     "end_time": "2025-05-17T15:28:59.731049Z",
     "start_time": "2025-05-17T15:28:59.208756Z"
    }
   },
   "source": [
    "plane_a = Plane([0,1,0],[0,-1,0])\n",
    "plane_a.set_material([1, 0.5, 1], [1, 0.5, 1], [1, 1, 1], 10, 0.5)\n",
    "plane_b = Plane([0,0,1], [0,0,-3])\n",
    "plane_b.set_material([0, 0.5, 1], [0, 0.5, 1], [1, 1, 1], 10, 0.5)\n",
    "\n",
    "objects = [plane_a, plane_b]\n",
    "\n",
    "light = PointLight(intensity= np.array([1, 1, 1]),position=np.array([1,1,1]),kc=0.1,kl=0.1,kq=0.1)\n",
    "\n",
    "lights = [light]\n",
    "\n",
    "ambient = np.array([0.1,0.1,0.1])\n",
    "\n",
    "camera = np.array([0.5,0.5,1])\n",
    "\n",
    "im = render_scene(camera, ambient, lights, objects, RENDER_RESOLUTION, 1)\n",
    "plt.imshow(im)\n",
    "plt.imsave('scene1.png', im)"
   ],
   "outputs": [
    {
     "data": {
      "text/plain": [
       "<Figure size 640x480 with 1 Axes>"
      ],
      "image/png": "[encoded data removed]"
     },
     "metadata": {},
     "output_type": "display_data"
    }
   ],
   "execution_count": 17
  },
  {
   "attachments": {},
   "cell_type": "markdown",
   "metadata": {},
   "source": [
    "## Scene 2 - Triangles and Shadows\n",
    "\n",
    "This scene adds a single triangle on the background of a plane. Because of its position, it will also cast shadow on the plane.\n",
    "The lighting is Directional\n",
    "\n",
    "![](scenes/scene2.png)"
   ]
  },
  {
   "cell_type": "code",
   "metadata": {
    "ExecuteTime": {
     "end_time": "2025-05-17T15:18:06.659475Z",
     "start_time": "2025-05-17T15:18:06.162036Z"
    }
   },
   "source": [
    "v_list = np.array([[-1,0,0],\n",
    "                   [0,0,-3],\n",
    "                   [0,3,-2]])\n",
    "\n",
    "triangle = Triangle(*v_list)\n",
    "triangle.set_material([1, 1, 0], [1, 1, 0], [0, 0, 0], 100, 0.5)\n",
    "\n",
    "plane = Plane([0,0,1], [0,0,-4])\n",
    "plane.set_material([0, 0.5, 0], [0.2, 0.5, 0.8], [.1, .1, .1], 100, 0.5)\n",
    "\n",
    "\n",
    "objects = [triangle, plane]\n",
    "\n",
    "light = DirectionalLight(intensity= np.array([1, 1, 1]), direction=np.array([-1,-1,-1]))\n",
    "\n",
    "lights = [light]\n",
    "\n",
    "ambient = np.array([0.1,0.1,0.1])\n",
    "\n",
    "camera = np.array([0,0,1])\n",
    "\n",
    "im = render_scene(camera, ambient, lights, objects, RENDER_RESOLUTION, 1)\n",
    "plt.imshow(im)\n",
    "plt.imsave('scene2.png', im)"
   ],
   "outputs": [
    {
     "ename": "TypeError",
     "evalue": "cannot unpack non-iterable NoneType object",
     "output_type": "error",
     "traceback": [
      "\u001B[0;31m---------------------------------------------------------------------------\u001B[0m",
      "\u001B[0;31mTypeError\u001B[0m                                 Traceback (most recent call last)",
      "Cell \u001B[0;32mIn[14], line 22\u001B[0m\n\u001B[1;32m     18\u001B[0m ambient \u001B[38;5;241m=\u001B[39m np\u001B[38;5;241m.\u001B[39marray([\u001B[38;5;241m0.1\u001B[39m,\u001B[38;5;241m0.1\u001B[39m,\u001B[38;5;241m0.1\u001B[39m])\n\u001B[1;32m     20\u001B[0m camera \u001B[38;5;241m=\u001B[39m np\u001B[38;5;241m.\u001B[39marray([\u001B[38;5;241m0\u001B[39m,\u001B[38;5;241m0\u001B[39m,\u001B[38;5;241m1\u001B[39m])\n\u001B[0;32m---> 22\u001B[0m im \u001B[38;5;241m=\u001B[39m render_scene(camera, ambient, lights, objects, RENDER_RESOLUTION, \u001B[38;5;241m1\u001B[39m)\n\u001B[1;32m     23\u001B[0m plt\u001B[38;5;241m.\u001B[39mimshow(im)\n\u001B[1;32m     24\u001B[0m plt\u001B[38;5;241m.\u001B[39mimsave(\u001B[38;5;124m'\u001B[39m\u001B[38;5;124mscene2.png\u001B[39m\u001B[38;5;124m'\u001B[39m, im)\n",
      "File \u001B[0;32m~/Library/Mobile Documents/com~apple~CloudDocs/Documents/לימודים/שנה ב/סמסטר ב/גרפיקה ממוחשבת/Ray-Tracing/hw3.py:20\u001B[0m, in \u001B[0;36mrender_scene\u001B[0;34m(camera, ambient, lights, objects, screen_size, max_depth)\u001B[0m\n\u001B[1;32m     17\u001B[0m ray \u001B[38;5;241m=\u001B[39m Ray(origin, direction)\n\u001B[1;32m     19\u001B[0m \u001B[38;5;66;03m# This is the main loop where each pixel color is computed.\u001B[39;00m\n\u001B[0;32m---> 20\u001B[0m color \u001B[38;5;241m=\u001B[39m get_color(ray, ambient, lights, objects, max_depth)\n\u001B[1;32m     22\u001B[0m \u001B[38;5;66;03m# We clip the values between 0 and 1 so all pixel values will make sense.\u001B[39;00m\n\u001B[1;32m     23\u001B[0m image[i, j] \u001B[38;5;241m=\u001B[39m np\u001B[38;5;241m.\u001B[39mclip(color,\u001B[38;5;241m0\u001B[39m,\u001B[38;5;241m1\u001B[39m)\n",
      "File \u001B[0;32m~/Library/Mobile Documents/com~apple~CloudDocs/Documents/לימודים/שנה ב/סמסטר ב/גרפיקה ממוחשבת/Ray-Tracing/helper_classes.py:262\u001B[0m, in \u001B[0;36mget_color\u001B[0;34m(ray, ambient, lights, objects, level)\u001B[0m\n\u001B[1;32m    260\u001B[0m \u001B[38;5;28;01mdef\u001B[39;00m \u001B[38;5;21mget_color\u001B[39m(ray: Ray, ambient, lights: \u001B[38;5;28mlist\u001B[39m[LightSource], objects: \u001B[38;5;28mlist\u001B[39m[Object3D], level: \u001B[38;5;28mint\u001B[39m):\n\u001B[1;32m    261\u001B[0m     color \u001B[38;5;241m=\u001B[39m np\u001B[38;5;241m.\u001B[39mzeros(\u001B[38;5;241m3\u001B[39m)\n\u001B[0;32m--> 262\u001B[0m     obj, t \u001B[38;5;241m=\u001B[39m ray\u001B[38;5;241m.\u001B[39mnearest_intersected_object(objects)\n\u001B[1;32m    264\u001B[0m     \u001B[38;5;28;01mif\u001B[39;00m obj \u001B[38;5;129;01mis\u001B[39;00m \u001B[38;5;28;01mNone\u001B[39;00m:\n\u001B[1;32m    265\u001B[0m         \u001B[38;5;28;01mreturn\u001B[39;00m color\n",
      "File \u001B[0;32m~/Library/Mobile Documents/com~apple~CloudDocs/Documents/לימודים/שנה ב/סמסטר ב/גרפיקה ממוחשבת/Ray-Tracing/helper_classes.py:118\u001B[0m, in \u001B[0;36mRay.nearest_intersected_object\u001B[0;34m(self, objects)\u001B[0m\n\u001B[1;32m    115\u001B[0m min_distance \u001B[38;5;241m=\u001B[39m np\u001B[38;5;241m.\u001B[39minf\n\u001B[1;32m    117\u001B[0m \u001B[38;5;28;01mfor\u001B[39;00m obj \u001B[38;5;129;01min\u001B[39;00m objects:\n\u001B[0;32m--> 118\u001B[0m     distance, intersected_obj \u001B[38;5;241m=\u001B[39m obj\u001B[38;5;241m.\u001B[39mintersect(\u001B[38;5;28mself\u001B[39m)\n\u001B[1;32m    119\u001B[0m     \u001B[38;5;28;01mif\u001B[39;00m distance \u001B[38;5;129;01mis\u001B[39;00m \u001B[38;5;129;01mnot\u001B[39;00m \u001B[38;5;28;01mNone\u001B[39;00m \u001B[38;5;129;01mand\u001B[39;00m distance \u001B[38;5;241m<\u001B[39m min_distance:\n\u001B[1;32m    120\u001B[0m         min_distance \u001B[38;5;241m=\u001B[39m distance\n",
      "\u001B[0;31mTypeError\u001B[0m: cannot unpack non-iterable NoneType object"
     ]
    }
   ],
   "execution_count": 14
  },
  {
   "attachments": {},
   "cell_type": "markdown",
   "metadata": {},
   "source": [
    "## Scene 3 - Diamond with Reflections\n",
    "\n",
    "This scene includes two planes (a background and a floor) and a diamond with light reflections on plane.\n",
    "\n",
    "![](scenes/scene3.png)"
   ]
  },
  {
   "cell_type": "code",
   "execution_count": null,
   "metadata": {
    "scrolled": true
   },
   "outputs": [],
   "source": [
    "\n",
    "v_list = np.array(\n",
    "[\n",
    "    [-0.5, -0.142, -0.998],\n",
    "    [-0.034, 0.092, -0.145],\n",
    "    [0.484, 0.031, -0.998],\n",
    "    [-0.104, 0.851, -0.828],\n",
    "    [0.23, -0.833, -0.591]\n",
    "])\n",
    "\n",
    "diamond = Diamond(v_list)\n",
    "diamond.set_material([0.1, 0.4, 0.7], [1, 0, 0], [0.7, 0.3, 0.3], 10, 0.5)\n",
    "diamond.apply_materials_to_triangles()\n",
    "\n",
    "plane = Plane([0,1,0], [0,-1,0])\n",
    "plane.set_material([0.2, 0.2, 0.2], [0.2, 0.2, 0.2], [1, 1, 1], 1000, 0.5)\n",
    "background = Plane([0,0,1], [0,0,-30])\n",
    "background.set_material([1, 0.3, 0.3], [1, 0.3, 0.3], [0.2, 0.2, 0.2], 10, 0.5)\n",
    "\n",
    "\n",
    "objects = [diamond, background, plane]\n",
    "\n",
    "light = PointLight(intensity=np.array([1, 1, 1]), position=np.array([0,0,1]), kc=0.1, kl=0.1, kq=0.1)\n",
    "\n",
    "lights = [light]\n",
    "\n",
    "ambient = np.array([0.1,0.1,0.1])\n",
    "\n",
    "camera = np.array([0,0.5,0.5])\n",
    "\n",
    "im = render_scene(camera, ambient, lights, objects, RENDER_RESOLUTION, 3)\n",
    "plt.imshow(im)\n",
    "plt.imsave('scene3.png', im)"
   ]
  },
  {
   "cell_type": "markdown",
   "metadata": {},
   "source": [
    "## Scene 4 - Sphere with reflections\n",
    "\n",
    "This scene has two spheres with different colors.\n",
    "\n",
    "![](scenes/scene4.png)"
   ]
  },
  {
   "cell_type": "code",
   "execution_count": null,
   "metadata": {},
   "outputs": [],
   "source": [
    "\n",
    "sphere_a = Sphere([-0.5, 0.2, -0.2],0.5)\n",
    "sphere_a.set_material([1, 0, 0], [0, 0, 0.7], [0.3, 0.3, 0.3], 100, 1)\n",
    "sphere_b = Sphere([0.8, 0.9, -0.8],0.4)\n",
    "sphere_b.set_material([0, 1, 0], [1, 0, 0], [0.3, 0.3, 0.3], 100, 0.2)\n",
    "plane = Plane([0,1,0], [0,-0.3,0])\n",
    "plane.set_material([0.2, 0.2, 0.2], [0.2, 0.2, 0.2], [1, 1, 1], 1000, 0.5)\n",
    "background = Plane([0,0,1], [0,0,-3])\n",
    "background.set_material([0.2, 0.2, 0.2], [0.2, 0.2, 0.2], [0.2, 0.2, 0.2], 1000, 0.5)\n",
    "\n",
    "\n",
    "objects = [sphere_a,sphere_b,plane,background]\n",
    "\n",
    "light = PointLight(intensity= np.array([1, 1, 1]),position=np.array([1,1.5,1]),kc=0.1,kl=0.1,kq=0.1)\n",
    "\n",
    "lights = [light]\n",
    "\n",
    "ambient = np.array([0.1,0.2,0.3])\n",
    "\n",
    "camera = np.array([0,0,1])\n",
    "\n",
    "im = render_scene(camera, ambient, lights, objects, RENDER_RESOLUTION, 3)\n",
    "plt.imshow(im)\n",
    "plt.imsave('scene4.png', im)"
   ]
  },
  {
   "cell_type": "markdown",
   "metadata": {},
   "source": [
    "## Scene 5 - Different Lighting\n",
    "This scene has 3 light sources, each one in different color, and a white background.\n",
    "\n",
    "![](scenes/scene5.png)"
   ]
  },
  {
   "cell_type": "code",
   "execution_count": null,
   "metadata": {},
   "outputs": [],
   "source": [
    "from hw3 import *\n",
    "\n",
    "background = Plane([0,0,1], [0,0,-1])\n",
    "background.set_material([1, 1, 1], [1, 1, 1], [1, 1, 1], 1000, 0.5)\n",
    "\n",
    "\n",
    "objects = [background]\n",
    "\n",
    "light_a = SpotLight(intensity= np.array([0, 0, 1]),position=np.array([0.5,0.5,0]), direction=([0,0,1]),\n",
    "                    kc=0.1,kl=0.1,kq=0.1)\n",
    "light_b = SpotLight(intensity= np.array([0, 1, 0]),position=np.array([-0.5,0.5,0]), direction=([0,0,1]),\n",
    "                    kc=0.1,kl=0.1,kq=0.1)\n",
    "light_c = SpotLight(intensity= np.array([1, 0, 0]),position=np.array([0,-0.5,0]), direction=([0,0,1]),\n",
    "                    kc=0.1,kl=0.1,kq=0.1)\n",
    "\n",
    "lights = [light_a,light_b,light_c]\n",
    "\n",
    "ambient = np.array([0,0,0])\n",
    "\n",
    "camera = np.array([0,0,1])\n",
    "\n",
    "im = render_scene(camera, ambient, lights, objects, RENDER_RESOLUTION, 3)\n",
    "plt.imshow(im)\n",
    "plt.imsave('scene5.png', im)"
   ]
  },
  {
   "cell_type": "markdown",
   "metadata": {},
   "source": [
    "## Scene 6 - Contained Objects\n",
    "\n",
    "Create a scene which includes an object inside another object.\n",
    "Examples: Sphere in a Triangle (But you can use also other objects)\n",
    "\n",
    "To achieve this you will need to use refractive rays.\n",
    "Usually we need to calculate the direction of the refracting ray after hitting the object based on the material refraction coefficients\n",
    "but here we expect you to implement a more relaxed version of refraction and assume the refracting ray goes in the same direction as the previous ray.\n",
    "\n",
    "Update the ray tracing pipeline to include refraction and the objects in your scene to have a refraction value. (You can set the default refraction value to 0 so it won't cause problems with the previous scenes)\n",
    "\n",
    "Your scene has to have:\n",
    "- At least 2 different light sources\n",
    "- Plane + At least 2 different 3D Objects\n",
    "- The inner object must be visible through the outer object\n",
    "\n",
    "creative scenes may reward bonus points!"
   ]
  },
  {
   "cell_type": "code",
   "execution_count": null,
   "metadata": {},
   "outputs": [],
   "source": [
    "from hw3 import *\n",
    "\n",
    "ambient = np.array([0,0,0])\n",
    "camera, lights, objects = your_own_scene()\n",
    "\n",
    "im = render_scene(camera, lights, ambient, objects, RENDER_RESOLUTION, 3)\n",
    "plt.imshow(im)\n",
    "plt.imsave('scene6.png', im)"
   ]
  },
  {
   "cell_type": "markdown",
   "metadata": {},
   "source": [
    "## Bonus Points"
   ]
  },
  {
   "cell_type": "markdown",
   "metadata": {},
   "source": [
    "### Create a triangle mesh\n",
    "\n",
    "![](scenes/low_poly.png)\n",
    "\n",
    "Use triangles to create a shape which resembles some object from real life.\n",
    "This is called a \"Triangle Mesh\": https://en.wikipedia.org/wiki/Triangle_mesh.\n",
    "\n",
    "Usually triangle meshes include many triangles, which makes the generated object more realistic.\n",
    "This is not required here. \n",
    "\n",
    "Use a minimal number of triangles and be creative with their colors so the object resembles what you want even without much details (like the above Snorlax)"
   ]
  }
 ],
 "metadata": {
  "colab": {
   "name": "Exercise 3 - Ray Tracing.ipynb",
   "provenance": []
  },
  "kernelspec": {
   "display_name": "Python 3 (ipykernel)",
   "language": "python",
   "name": "python3"
  },
  "language_info": {
   "codemirror_mode": {
    "name": "ipython",
    "version": 3
   },
   "file_extension": ".py",
   "mimetype": "text/x-python",
   "name": "python",
   "nbconvert_exporter": "python",
   "pygments_lexer": "ipython3",
   "version": "3.8.17"
  }
 },
 "nbformat": 4,
 "nbformat_minor": 1
}
